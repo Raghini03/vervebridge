{
 "cells": [
  {
   "cell_type": "code",
   "execution_count": null,
   "id": "d4b51da4",
   "metadata": {},
   "outputs": [
    {
     "name": "stdout",
     "output_type": "stream",
     "text": [
      "[1]\n",
      " * Serving Flask app \"__main__\" (lazy loading)\n",
      " * Environment: production\n",
      "\u001b[31m   WARNING: This is a development server. Do not use it in a production deployment.\u001b[0m\n",
      "\u001b[2m   Use a production WSGI server instead.\u001b[0m\n",
      " * Debug mode: off\n"
     ]
    },
    {
     "name": "stderr",
     "output_type": "stream",
     "text": [
      " * Running on http://127.0.0.1:5000/ (Press CTRL+C to quit)\n",
      "127.0.0.1 - - [23/Jul/2024 19:36:18] \"GET / HTTP/1.1\" 404 -\n",
      "127.0.0.1 - - [23/Jul/2024 19:36:18] \"GET /favicon.ico HTTP/1.1\" 404 -\n",
      "127.0.0.1 - - [23/Jul/2024 19:36:34] \"GET / HTTP/1.1\" 404 -\n"
     ]
    }
   ],
   "source": [
    "import pandas as pd\n",
    "\n",
    "# Create sample data\n",
    "data = {\n",
    "    'machine_id': [1, 1, 1, 2, 2, 2, 3, 3, 3],\n",
    "    'temperature': [50, 55, 60, 45, 50, 55, 40, 45, 50],\n",
    "    'vibration': [0.5, 0.6, 0.7, 0.4, 0.5, 0.6, 0.3, 0.4, 0.5],\n",
    "    'pressure': [100, 110, 120, 90, 100, 110, 80, 90, 100],\n",
    "    'failure': [0, 0, 1, 0, 0, 1, 0, 0, 1]\n",
    "}\n",
    "\n",
    "df = pd.DataFrame(data)\n",
    "\n",
    "\n",
    "\n",
    "\n",
    "\n",
    "from sklearn.ensemble import RandomForestClassifier\n",
    "from sklearn.model_selection import train_test_split\n",
    "\n",
    "# Split data into training and testing sets\n",
    "X = df.drop(['machine_id', 'failure'], axis=1)\n",
    "y = df['failure']\n",
    "X_train, X_test, y_train, y_test = train_test_split(X, y, test_size=0.2, random_state=42)\n",
    "\n",
    "# Train random forest classifier\n",
    "model = RandomForestClassifier(n_estimators=100, random_state=42)\n",
    "model.fit(X_train, y_train)\n",
    "\n",
    "\n",
    "# Create new data for prediction\n",
    "new_data = {\n",
    "    'temperature': [65],\n",
    "    'vibration': [0.8],\n",
    "    'pressure': [130]\n",
    "}\n",
    "\n",
    "new_df = pd.DataFrame(new_data)\n",
    "\n",
    "# Make prediction\n",
    "prediction = model.predict(new_df)\n",
    "print(prediction)\n",
    "\n",
    "\n",
    "\n",
    "\n",
    "from flask import Flask, jsonify, request\n",
    "\n",
    "app = Flask(__name__)\n",
    "\n",
    "# Define prediction endpoint\n",
    "@app.route('/predict', methods=['POST'])\n",
    "def predict():\n",
    "    data = request.get_json()\n",
    "    prediction = model.predict(pd.DataFrame(data))\n",
    "    return jsonify({'prediction': prediction.tolist()})\n",
    "\n",
    "if __name__ == '__main__':\n",
    "    app.run()\n"
   ]
  },
  {
   "cell_type": "code",
   "execution_count": null,
   "id": "e7beab7f",
   "metadata": {},
   "outputs": [],
   "source": []
  }
 ],
 "metadata": {
  "kernelspec": {
   "display_name": "Python 3 (ipykernel)",
   "language": "python",
   "name": "python3"
  },
  "language_info": {
   "codemirror_mode": {
    "name": "ipython",
    "version": 3
   },
   "file_extension": ".py",
   "mimetype": "text/x-python",
   "name": "python",
   "nbconvert_exporter": "python",
   "pygments_lexer": "ipython3",
   "version": "3.9.13"
  }
 },
 "nbformat": 4,
 "nbformat_minor": 5
}
